{
 "cells": [
  {
   "cell_type": "code",
   "execution_count": 3,
   "metadata": {},
   "outputs": [
    {
     "data": {
      "text/html": [
       "<div>\n",
       "<style>\n",
       "    .dataframe thead tr:only-child th {\n",
       "        text-align: right;\n",
       "    }\n",
       "\n",
       "    .dataframe thead th {\n",
       "        text-align: left;\n",
       "    }\n",
       "\n",
       "    .dataframe tbody tr th {\n",
       "        vertical-align: top;\n",
       "    }\n",
       "</style>\n",
       "<table border=\"1\" class=\"dataframe\">\n",
       "  <thead>\n",
       "    <tr style=\"text-align: right;\">\n",
       "      <th></th>\n",
       "      <th>Id</th>\n",
       "      <th>Distance_Feature</th>\n",
       "      <th>Speeding_Feature</th>\n",
       "    </tr>\n",
       "  </thead>\n",
       "  <tbody>\n",
       "    <tr>\n",
       "      <th>3996</th>\n",
       "      <td>3423310685</td>\n",
       "      <td>160.04</td>\n",
       "      <td>10.0</td>\n",
       "    </tr>\n",
       "    <tr>\n",
       "      <th>3997</th>\n",
       "      <td>3423312600</td>\n",
       "      <td>176.17</td>\n",
       "      <td>5.0</td>\n",
       "    </tr>\n",
       "    <tr>\n",
       "      <th>3998</th>\n",
       "      <td>3423312921</td>\n",
       "      <td>170.91</td>\n",
       "      <td>12.0</td>\n",
       "    </tr>\n",
       "    <tr>\n",
       "      <th>3999</th>\n",
       "      <td>3423313630</td>\n",
       "      <td>176.14</td>\n",
       "      <td>5.0</td>\n",
       "    </tr>\n",
       "    <tr>\n",
       "      <th>4000</th>\n",
       "      <td>3423311533</td>\n",
       "      <td>168.03</td>\n",
       "      <td>9.0</td>\n",
       "    </tr>\n",
       "  </tbody>\n",
       "</table>\n",
       "</div>"
      ],
      "text/plain": [
       "              Id Distance_Feature Speeding_Feature\n",
       "3996  3423310685           160.04             10.0\n",
       "3997  3423312600           176.17              5.0\n",
       "3998  3423312921           170.91             12.0\n",
       "3999  3423313630           176.14              5.0\n",
       "4000  3423311533           168.03              9.0"
      ]
     },
     "execution_count": 3,
     "metadata": {},
     "output_type": "execute_result"
    }
   ],
   "source": [
    "import pandas as pd\n",
    "import plotly\n",
    "plotly.tools.set_credentials_file(username='uthaipon', api_key='uJ2ao98wtpRp6j4uLjRS')\n",
    "import plotly.plotly as py\n",
    "from plotly.graph_objs import *\n",
    "import plotly.tools as tls\n",
    "\n",
    "df = pd.read_csv(\n",
    "    filepath_or_buffer='https://raw.githubusercontent.com/datascienceinc/learn-data-science/master/Introduction-to-K-means-Clustering/Data/data_1024.csv', \n",
    "    header=None, \n",
    "    sep='\\t') #separate columns by tab, not by ','\n",
    "\n",
    "df.columns=['Id','Distance_Feature','Speeding_Feature']\n",
    "df.dropna(how=\"all\", inplace=True) # drops the empty line at file-end\n",
    "\n",
    "df.tail()"
   ]
  },
  {
   "cell_type": "code",
   "execution_count": 17,
   "metadata": {},
   "outputs": [
    {
     "data": {
      "text/html": [
       "<div>\n",
       "<style>\n",
       "    .dataframe thead tr:only-child th {\n",
       "        text-align: right;\n",
       "    }\n",
       "\n",
       "    .dataframe thead th {\n",
       "        text-align: left;\n",
       "    }\n",
       "\n",
       "    .dataframe tbody tr th {\n",
       "        vertical-align: top;\n",
       "    }\n",
       "</style>\n",
       "<table border=\"1\" class=\"dataframe\">\n",
       "  <thead>\n",
       "    <tr style=\"text-align: right;\">\n",
       "      <th></th>\n",
       "      <th>Distance_Feature</th>\n",
       "      <th>Speeding_Feature</th>\n",
       "    </tr>\n",
       "  </thead>\n",
       "  <tbody>\n",
       "    <tr>\n",
       "      <th>1</th>\n",
       "      <td>71.24</td>\n",
       "      <td>28.0</td>\n",
       "    </tr>\n",
       "    <tr>\n",
       "      <th>2</th>\n",
       "      <td>52.53</td>\n",
       "      <td>25.0</td>\n",
       "    </tr>\n",
       "    <tr>\n",
       "      <th>3</th>\n",
       "      <td>64.54</td>\n",
       "      <td>27.0</td>\n",
       "    </tr>\n",
       "    <tr>\n",
       "      <th>4</th>\n",
       "      <td>55.69</td>\n",
       "      <td>22.0</td>\n",
       "    </tr>\n",
       "    <tr>\n",
       "      <th>5</th>\n",
       "      <td>54.58</td>\n",
       "      <td>25.0</td>\n",
       "    </tr>\n",
       "  </tbody>\n",
       "</table>\n",
       "</div>"
      ],
      "text/plain": [
       "  Distance_Feature Speeding_Feature\n",
       "1            71.24             28.0\n",
       "2            52.53             25.0\n",
       "3            64.54             27.0\n",
       "4            55.69             22.0\n",
       "5            54.58             25.0"
      ]
     },
     "execution_count": 17,
     "metadata": {},
     "output_type": "execute_result"
    }
   ],
   "source": [
    "import numpy as np\n",
    "from sklearn.cluster import KMeans\n",
    "\n",
    "\"\"\"\n",
    "### For the purposes of this example, we store feature data from our\n",
    "### dataframe `df`, in the `f1` and `f2` arrays. We combine this into\n",
    "### a feature matrix `X` before entering it into the algorithm.\n",
    "f1 = df['Distance_Feature'].values\n",
    "f2 = df['Speeding_Feature'].values\n",
    "print(f1)\n",
    "print(f2)\n",
    "X=np.matrix(zip(f1,f2))\n",
    "\"\"\"\n",
    "\n",
    "X = df.ix[1:,1:3] #ignore the first column of data and first row\n",
    "X.head()"
   ]
  },
  {
   "cell_type": "code",
   "execution_count": 22,
   "metadata": {},
   "outputs": [
    {
     "data": {
      "text/html": [
       "<iframe id=\"igraph\" scrolling=\"no\" style=\"border:none;\" seamless=\"seamless\" src=\"https://plot.ly/~uthaipon/114.embed\" height=\"525px\" width=\"100%\"></iframe>"
      ],
      "text/plain": [
       "<plotly.tools.PlotlyDisplay object>"
      ]
     },
     "execution_count": 22,
     "metadata": {},
     "output_type": "execute_result"
    }
   ],
   "source": [
    "#I want to get the number in the pandas frame, so make it an array first\n",
    "table = X.values;\n",
    "\n",
    "#2 clusters\n",
    "dim = 2;\n",
    "\n",
    "kmeans = KMeans(n_clusters=dim).fit(X)\n",
    "#print(kmeans.labels_)\n",
    "\n",
    "traces = []\n",
    "for groupNumber in range(dim):\n",
    "\n",
    "    trace = Scatter(\n",
    "        x=table[kmeans.labels_==groupNumber,0], \n",
    "        y=table[kmeans.labels_==groupNumber,1],\n",
    "        mode='markers',\n",
    "        name=\"Group\" + str(groupNumber+1),\n",
    "        marker=Marker(\n",
    "            size=12,\n",
    "            line=Line(\n",
    "                color='rgba(217, 217, 217, 0.14)',\n",
    "                width=0.5),\n",
    "            opacity=0.8))\n",
    "    traces.append(trace)\n",
    "\n",
    "\n",
    "data = Data(traces)\n",
    "layout = Layout(xaxis=XAxis(title='PC1', showline=False),\n",
    "                yaxis=YAxis(title='PC2', showline=False))\n",
    "fig = Figure(data=data, layout=layout)\n",
    "py.iplot(fig)"
   ]
  },
  {
   "cell_type": "code",
   "execution_count": 23,
   "metadata": {},
   "outputs": [
    {
     "data": {
      "text/html": [
       "<iframe id=\"igraph\" scrolling=\"no\" style=\"border:none;\" seamless=\"seamless\" src=\"https://plot.ly/~uthaipon/116.embed\" height=\"525px\" width=\"100%\"></iframe>"
      ],
      "text/plain": [
       "<plotly.tools.PlotlyDisplay object>"
      ]
     },
     "execution_count": 23,
     "metadata": {},
     "output_type": "execute_result"
    }
   ],
   "source": [
    "#4 clusters\n",
    "dim = 4;\n",
    "\n",
    "kmeans = KMeans(n_clusters=dim).fit(X)\n",
    "#print(kmeans.labels_)\n",
    "\n",
    "traces = []\n",
    "for groupNumber in range(dim):\n",
    "\n",
    "    trace = Scatter(\n",
    "        x=table[kmeans.labels_==groupNumber,0], \n",
    "        y=table[kmeans.labels_==groupNumber,1],\n",
    "        mode='markers',\n",
    "        name=\"Group\" + str(groupNumber+1),\n",
    "        marker=Marker(\n",
    "            size=12,\n",
    "            line=Line(\n",
    "                color='rgba(217, 217, 217, 0.14)',\n",
    "                width=0.5),\n",
    "            opacity=0.8))\n",
    "    traces.append(trace)\n",
    "\n",
    "\n",
    "data = Data(traces)\n",
    "layout = Layout(xaxis=XAxis(title='PC1', showline=False),\n",
    "                yaxis=YAxis(title='PC2', showline=False))\n",
    "fig = Figure(data=data, layout=layout)\n",
    "py.iplot(fig)"
   ]
  },
  {
   "cell_type": "code",
   "execution_count": null,
   "metadata": {
    "collapsed": true
   },
   "outputs": [],
   "source": []
  }
 ],
 "metadata": {
  "kernelspec": {
   "display_name": "Python 3",
   "language": "python",
   "name": "python3"
  },
  "language_info": {
   "codemirror_mode": {
    "name": "ipython",
    "version": 3
   },
   "file_extension": ".py",
   "mimetype": "text/x-python",
   "name": "python",
   "nbconvert_exporter": "python",
   "pygments_lexer": "ipython3",
   "version": "3.6.1"
  }
 },
 "nbformat": 4,
 "nbformat_minor": 2
}
