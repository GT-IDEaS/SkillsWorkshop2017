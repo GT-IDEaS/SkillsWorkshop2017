{
 "cells": [
  {
   "cell_type": "code",
   "execution_count": 1,
   "metadata": {},
   "outputs": [
    {
     "data": {
      "text/html": [
       "<div>\n",
       "<style>\n",
       "    .dataframe thead tr:only-child th {\n",
       "        text-align: right;\n",
       "    }\n",
       "\n",
       "    .dataframe thead th {\n",
       "        text-align: left;\n",
       "    }\n",
       "\n",
       "    .dataframe tbody tr th {\n",
       "        vertical-align: top;\n",
       "    }\n",
       "</style>\n",
       "<table border=\"1\" class=\"dataframe\">\n",
       "  <thead>\n",
       "    <tr style=\"text-align: right;\">\n",
       "      <th></th>\n",
       "      <th>Id</th>\n",
       "      <th>RI</th>\n",
       "      <th>Na</th>\n",
       "      <th>Mg</th>\n",
       "      <th>Al</th>\n",
       "      <th>Si</th>\n",
       "      <th>K</th>\n",
       "      <th>Ca</th>\n",
       "      <th>Ba</th>\n",
       "      <th>Fe</th>\n",
       "      <th>Glass Type</th>\n",
       "    </tr>\n",
       "  </thead>\n",
       "  <tbody>\n",
       "    <tr>\n",
       "      <th>209</th>\n",
       "      <td>210</td>\n",
       "      <td>1.51623</td>\n",
       "      <td>14.14</td>\n",
       "      <td>0.0</td>\n",
       "      <td>2.88</td>\n",
       "      <td>72.61</td>\n",
       "      <td>0.08</td>\n",
       "      <td>9.18</td>\n",
       "      <td>1.06</td>\n",
       "      <td>0.0</td>\n",
       "      <td>7</td>\n",
       "    </tr>\n",
       "    <tr>\n",
       "      <th>210</th>\n",
       "      <td>211</td>\n",
       "      <td>1.51685</td>\n",
       "      <td>14.92</td>\n",
       "      <td>0.0</td>\n",
       "      <td>1.99</td>\n",
       "      <td>73.06</td>\n",
       "      <td>0.00</td>\n",
       "      <td>8.40</td>\n",
       "      <td>1.59</td>\n",
       "      <td>0.0</td>\n",
       "      <td>7</td>\n",
       "    </tr>\n",
       "    <tr>\n",
       "      <th>211</th>\n",
       "      <td>212</td>\n",
       "      <td>1.52065</td>\n",
       "      <td>14.36</td>\n",
       "      <td>0.0</td>\n",
       "      <td>2.02</td>\n",
       "      <td>73.42</td>\n",
       "      <td>0.00</td>\n",
       "      <td>8.44</td>\n",
       "      <td>1.64</td>\n",
       "      <td>0.0</td>\n",
       "      <td>7</td>\n",
       "    </tr>\n",
       "    <tr>\n",
       "      <th>212</th>\n",
       "      <td>213</td>\n",
       "      <td>1.51651</td>\n",
       "      <td>14.38</td>\n",
       "      <td>0.0</td>\n",
       "      <td>1.94</td>\n",
       "      <td>73.61</td>\n",
       "      <td>0.00</td>\n",
       "      <td>8.48</td>\n",
       "      <td>1.57</td>\n",
       "      <td>0.0</td>\n",
       "      <td>7</td>\n",
       "    </tr>\n",
       "    <tr>\n",
       "      <th>213</th>\n",
       "      <td>214</td>\n",
       "      <td>1.51711</td>\n",
       "      <td>14.23</td>\n",
       "      <td>0.0</td>\n",
       "      <td>2.08</td>\n",
       "      <td>73.36</td>\n",
       "      <td>0.00</td>\n",
       "      <td>8.62</td>\n",
       "      <td>1.67</td>\n",
       "      <td>0.0</td>\n",
       "      <td>7</td>\n",
       "    </tr>\n",
       "  </tbody>\n",
       "</table>\n",
       "</div>"
      ],
      "text/plain": [
       "      Id       RI     Na   Mg    Al     Si     K    Ca    Ba   Fe  Glass Type\n",
       "209  210  1.51623  14.14  0.0  2.88  72.61  0.08  9.18  1.06  0.0           7\n",
       "210  211  1.51685  14.92  0.0  1.99  73.06  0.00  8.40  1.59  0.0           7\n",
       "211  212  1.52065  14.36  0.0  2.02  73.42  0.00  8.44  1.64  0.0           7\n",
       "212  213  1.51651  14.38  0.0  1.94  73.61  0.00  8.48  1.57  0.0           7\n",
       "213  214  1.51711  14.23  0.0  2.08  73.36  0.00  8.62  1.67  0.0           7"
      ]
     },
     "execution_count": 1,
     "metadata": {},
     "output_type": "execute_result"
    }
   ],
   "source": [
    "\"\"\"\n",
    "Attribute Information:\n",
    "\n",
    "1. Id number: 1 to 214 \n",
    "2. RI: refractive index \n",
    "3. Na: Sodium (unit measurement: weight percent in corresponding oxide, as are attributes 4-10) \n",
    "4. Mg: Magnesium \n",
    "5. Al: Aluminum \n",
    "6. Si: Silicon \n",
    "7. K: Potassium \n",
    "8. Ca: Calcium \n",
    "9. Ba: Barium \n",
    "10. Fe: Iron \n",
    "11. Type of glass: (class attribute) \n",
    "-- 1 building_windows_float_processed \n",
    "-- 2 building_windows_non_float_processed \n",
    "-- 3 vehicle_windows_float_processed \n",
    "-- 4 vehicle_windows_non_float_processed (none in this database) \n",
    "-- 5 containers \n",
    "-- 6 tableware \n",
    "-- 7 headlamps\n",
    "\"\"\"\n",
    "#data setup section\n",
    "glassTypeName = {1:\"building_windows_float_processed\",\n",
    "                 2:\"building_windows_non_float_processed\",\n",
    "                 3:\"vehicle_windows_float_processed\",\n",
    "                 4:\"vehicle_windows_non_float_processed\",\n",
    "                 5:\"containers\",\n",
    "                 6:\"tableware\",\n",
    "                 7:\"headlamps\"};\n",
    "\n",
    "import pandas as pd\n",
    "import plotly\n",
    "plotly.tools.set_credentials_file(username='uthaipon', api_key='uJ2ao98wtpRp6j4uLjRS')\n",
    "import plotly.plotly as py\n",
    "from plotly.graph_objs import *\n",
    "import plotly.tools as tls\n",
    "\n",
    "df = pd.read_csv(\n",
    "    filepath_or_buffer='https://archive.ics.uci.edu/ml/machine-learning-databases/glass/glass.data', \n",
    "    header=None, \n",
    "    sep=',')\n",
    "\n",
    "df.columns=['Id','RI','Na','Mg','Al','Si','K','Ca','Ba','Fe','Glass Type']\n",
    "df.dropna(how=\"all\", inplace=True) # drops the empty line at file-end\n",
    "\n",
    "df.tail()"
   ]
  },
  {
   "cell_type": "code",
   "execution_count": 12,
   "metadata": {},
   "outputs": [
    {
     "data": {
      "text/html": [
       "<iframe id=\"igraph\" scrolling=\"no\" style=\"border:none;\" seamless=\"seamless\" src=\"https://plot.ly/~uthaipon/72.embed\" height=\"525px\" width=\"100%\"></iframe>"
      ],
      "text/plain": [
       "<plotly.tools.PlotlyDisplay object>"
      ]
     },
     "execution_count": 12,
     "metadata": {},
     "output_type": "execute_result"
    }
   ],
   "source": [
    "# split data table into data X and class labels y. Ignore first column because it's just ID\n",
    "\n",
    "X = df.ix[:,1:10].values\n",
    "y = df.ix[:,10].values\n",
    "from sklearn.preprocessing import StandardScaler #standardized the indenpendent variables part\n",
    "X_std = StandardScaler().fit_transform(X)\n",
    "\n",
    "#anything below here is by using sklearn. Should look the same as my own version, which is so (up to symmetric transformation)\n",
    "\n",
    "from sklearn.decomposition import PCA as sklearnPCA\n",
    "sklearn_pca = sklearnPCA(n_components=2)\n",
    "Y_sklearn = sklearn_pca.fit_transform(X_std)\n",
    "\n",
    "traces = []\n",
    "\n",
    "for name in range(1,8): #because the dependent variables are 1,2,...,7, so just use list of numbers as 'name' of class\n",
    "\n",
    "    trace = Scatter(\n",
    "        x=Y_sklearn[y==name,0],\n",
    "        y=Y_sklearn[y==name,1],\n",
    "        mode='markers',\n",
    "        name=name,\n",
    "        marker=Marker(\n",
    "            size=12,\n",
    "            line=Line(\n",
    "                color='rgba(217, 217, 217, 0.14)',\n",
    "                width=0.5),\n",
    "            opacity=0.8))\n",
    "    traces.append(trace)\n",
    "\n",
    "\n",
    "data = Data(traces)\n",
    "layout = Layout(xaxis=XAxis(title='PC1', showline=False),\n",
    "                yaxis=YAxis(title='PC2', showline=False))\n",
    "fig = Figure(data=data, layout=layout)\n",
    "py.iplot(fig)"
   ]
  },
  {
   "cell_type": "code",
   "execution_count": 7,
   "metadata": {
    "collapsed": true
   },
   "outputs": [],
   "source": [
    "#now start to cluster\n",
    "from sklearn.cluster import KMeans"
   ]
  },
  {
   "cell_type": "code",
   "execution_count": 8,
   "metadata": {},
   "outputs": [
    {
     "name": "stdout",
     "output_type": "stream",
     "text": [
      "[1 1 1 1 1 1 1 1 1 1 1 1 1 1 1 1 1 1 1 1 1 1 1 1 1 1 1 1 1 1 1 1 1 1 1 1 1\n",
      " 1 1 1 1 1 1 1 1 1 1 1 1 1 1 1 1 1 1 1 1 1 1 1 1 1 1 1 1 1 1 1 1 1 1 1 1 1\n",
      " 1 1 1 1 1 1 1 1 1 1 1 1 1 1 1 1 1 1 1 1 1 1 1 1 1 1 1 1 1 1 1 1 0 1 1 1 1\n",
      " 1 1 1 1 1 1 1 1 1 1 1 1 1 1 1 1 1 1 1 1 1 1 1 1 1 1 1 1 1 1 1 1 1 1 1 1 1\n",
      " 1 1 1 1 1 1 1 1 1 1 1 1 1 1 1 0 1 1 1 1 1 1 1 0 0 1 1 1 1 1 1 1 1 0 0 1 0\n",
      " 0 0 1 1 0 0 0 0 0 0 0 0 0 0 0 0 1 0 0 0 0 0 0 0 0 0 0 0 0]\n"
     ]
    }
   ],
   "source": [
    "#print(kmeans.labels_)"
   ]
  },
  {
   "cell_type": "code",
   "execution_count": 36,
   "metadata": {
    "collapsed": true
   },
   "outputs": [],
   "source": [
    "\"\"\" below it does not work. Want to reuse for many number of clusters choices. Don't know why...\n",
    "\n",
    "def plotClustersFig(dim):\n",
    "    kmeans = KMeans(n_clusters=dim).fit(Y_sklearn)\n",
    "\n",
    "    #plot the clusters. Same as plotly above but instead of 7 glass types, do 2 clusters\n",
    "    traces = []\n",
    "\n",
    "    for groupNumber in range(dim):\n",
    "\n",
    "        trace = Scatter(\n",
    "            x=Y_sklearn[kmeans.labels_==groupNumber,0],\n",
    "            y=Y_sklearn[kmeans.labels_==groupNumber,1],\n",
    "            mode='markers',\n",
    "            name=\"Group\" + str(groupNumber+1),\n",
    "            marker=Marker(\n",
    "                size=12,\n",
    "                line=Line(\n",
    "                    color='rgba(217, 217, 217, 0.14)',\n",
    "                    width=0.5),\n",
    "                opacity=0.8))\n",
    "        traces.append(trace)\n",
    "\n",
    "\n",
    "    data = Data(traces)\n",
    "    layout = Layout(xaxis=XAxis(title='PC1', showline=False),\n",
    "                    yaxis=YAxis(title='PC2', showline=False))\n",
    "    fig = Figure(data=data, layout=layout)\n",
    "    py.iplot(fig)\n",
    "    return fig;\n",
    "    \n",
    "plotClustersFig(2)\n",
    "py.iplot(fig)\n",
    "\n",
    "\"\"\""
   ]
  },
  {
   "cell_type": "code",
   "execution_count": 1,
   "metadata": {},
   "outputs": [
    {
     "ename": "NameError",
     "evalue": "name 'KMeans' is not defined",
     "output_type": "error",
     "traceback": [
      "\u001b[1;31m---------------------------------------------------------------------------\u001b[0m",
      "\u001b[1;31mNameError\u001b[0m                                 Traceback (most recent call last)",
      "\u001b[1;32m<ipython-input-1-daca6c4219e0>\u001b[0m in \u001b[0;36m<module>\u001b[1;34m()\u001b[0m\n\u001b[0;32m      2\u001b[0m \u001b[0mdim\u001b[0m \u001b[1;33m=\u001b[0m \u001b[1;36m2\u001b[0m\u001b[1;33m;\u001b[0m\u001b[1;33m\u001b[0m\u001b[0m\n\u001b[0;32m      3\u001b[0m \u001b[1;33m\u001b[0m\u001b[0m\n\u001b[1;32m----> 4\u001b[1;33m \u001b[0mkmeans\u001b[0m \u001b[1;33m=\u001b[0m \u001b[0mKMeans\u001b[0m\u001b[1;33m(\u001b[0m\u001b[0mn_clusters\u001b[0m\u001b[1;33m=\u001b[0m\u001b[0mdim\u001b[0m\u001b[1;33m)\u001b[0m\u001b[1;33m.\u001b[0m\u001b[0mfit\u001b[0m\u001b[1;33m(\u001b[0m\u001b[0mY_sklearn\u001b[0m\u001b[1;33m)\u001b[0m\u001b[1;33m\u001b[0m\u001b[0m\n\u001b[0m\u001b[0;32m      5\u001b[0m \u001b[1;33m\u001b[0m\u001b[0m\n\u001b[0;32m      6\u001b[0m \u001b[1;31m#plot the clusters. Same as plotly above but instead of 7 glass types, do 2 clusters\u001b[0m\u001b[1;33m\u001b[0m\u001b[1;33m\u001b[0m\u001b[0m\n",
      "\u001b[1;31mNameError\u001b[0m: name 'KMeans' is not defined"
     ]
    }
   ],
   "source": [
    "#try 2 clusters\n",
    "dim = 2;\n",
    "\n",
    "kmeans = KMeans(n_clusters=dim).fit(Y_sklearn)\n",
    "\n",
    "#plot the clusters. Same as plotly above but instead of 7 glass types, do 2 clusters\n",
    "traces = []\n",
    "\n",
    "for groupNumber in range(dim):\n",
    "\n",
    "    trace = Scatter(\n",
    "        x=Y_sklearn[kmeans.labels_==groupNumber,0],\n",
    "        y=Y_sklearn[kmeans.labels_==groupNumber,1],\n",
    "        mode='markers',\n",
    "        name=\"Group\" + str(groupNumber+1),\n",
    "        marker=Marker(\n",
    "            size=12,\n",
    "            line=Line(\n",
    "                color='rgba(217, 217, 217, 0.14)',\n",
    "                width=0.5),\n",
    "            opacity=0.8))\n",
    "    traces.append(trace)\n",
    "\n",
    "\n",
    "data = Data(traces)\n",
    "layout = Layout(xaxis=XAxis(title='PC1', showline=False),\n",
    "                yaxis=YAxis(title='PC2', showline=False))\n",
    "fig = Figure(data=data, layout=layout)\n",
    "py.iplot(fig)"
   ]
  },
  {
   "cell_type": "code",
   "execution_count": 33,
   "metadata": {},
   "outputs": [
    {
     "data": {
      "text/html": [
       "<iframe id=\"igraph\" scrolling=\"no\" style=\"border:none;\" seamless=\"seamless\" src=\"https://plot.ly/~uthaipon/92.embed\" height=\"525px\" width=\"100%\"></iframe>"
      ],
      "text/plain": [
       "<plotly.tools.PlotlyDisplay object>"
      ]
     },
     "execution_count": 33,
     "metadata": {},
     "output_type": "execute_result"
    }
   ],
   "source": [
    "#try 3 clusters\n",
    "dim = 3;\n",
    "\n",
    "kmeans = KMeans(n_clusters=dim).fit(Y_sklearn)\n",
    "\n",
    "#plot the clusters. Same as plotly above but instead of 7 glass types, do 2 clusters\n",
    "traces = []\n",
    "\n",
    "for groupNumber in range(dim):\n",
    "\n",
    "    trace = Scatter(\n",
    "        x=Y_sklearn[kmeans.labels_==groupNumber,0],\n",
    "        y=Y_sklearn[kmeans.labels_==groupNumber,1],\n",
    "        mode='markers',\n",
    "        name=\"Group\" + str(groupNumber+1),\n",
    "        marker=Marker(\n",
    "            size=12,\n",
    "            line=Line(\n",
    "                color='rgba(217, 217, 217, 0.14)',\n",
    "                width=0.5),\n",
    "            opacity=0.8))\n",
    "    traces.append(trace)\n",
    "\n",
    "\n",
    "data = Data(traces)\n",
    "layout = Layout(xaxis=XAxis(title='PC1', showline=False),\n",
    "                yaxis=YAxis(title='PC2', showline=False))\n",
    "fig = Figure(data=data, layout=layout)\n",
    "py.iplot(fig)"
   ]
  },
  {
   "cell_type": "code",
   "execution_count": 34,
   "metadata": {},
   "outputs": [
    {
     "data": {
      "text/html": [
       "<iframe id=\"igraph\" scrolling=\"no\" style=\"border:none;\" seamless=\"seamless\" src=\"https://plot.ly/~uthaipon/94.embed\" height=\"525px\" width=\"100%\"></iframe>"
      ],
      "text/plain": [
       "<plotly.tools.PlotlyDisplay object>"
      ]
     },
     "execution_count": 34,
     "metadata": {},
     "output_type": "execute_result"
    }
   ],
   "source": [
    "#try 4 clusters\n",
    "dim = 4;\n",
    "\n",
    "kmeans = KMeans(n_clusters=dim).fit(Y_sklearn)\n",
    "\n",
    "#plot the clusters. Same as plotly above but instead of 7 glass types, do 2 clusters\n",
    "traces = []\n",
    "\n",
    "for groupNumber in range(dim):\n",
    "\n",
    "    trace = Scatter(\n",
    "        x=Y_sklearn[kmeans.labels_==groupNumber,0],\n",
    "        y=Y_sklearn[kmeans.labels_==groupNumber,1],\n",
    "        mode='markers',\n",
    "        name=\"Group\" + str(groupNumber+1),\n",
    "        marker=Marker(\n",
    "            size=12,\n",
    "            line=Line(\n",
    "                color='rgba(217, 217, 217, 0.14)',\n",
    "                width=0.5),\n",
    "            opacity=0.8))\n",
    "    traces.append(trace)\n",
    "\n",
    "\n",
    "data = Data(traces)\n",
    "layout = Layout(xaxis=XAxis(title='PC1', showline=False),\n",
    "                yaxis=YAxis(title='PC2', showline=False))\n",
    "fig = Figure(data=data, layout=layout)\n",
    "py.iplot(fig)"
   ]
  },
  {
   "cell_type": "code",
   "execution_count": 35,
   "metadata": {},
   "outputs": [
    {
     "data": {
      "text/html": [
       "<iframe id=\"igraph\" scrolling=\"no\" style=\"border:none;\" seamless=\"seamless\" src=\"https://plot.ly/~uthaipon/96.embed\" height=\"525px\" width=\"100%\"></iframe>"
      ],
      "text/plain": [
       "<plotly.tools.PlotlyDisplay object>"
      ]
     },
     "execution_count": 35,
     "metadata": {},
     "output_type": "execute_result"
    }
   ],
   "source": [
    "#try 5 clusters\n",
    "dim = 5;\n",
    "\n",
    "kmeans = KMeans(n_clusters=dim).fit(Y_sklearn)\n",
    "\n",
    "#plot the clusters. Same as plotly above but instead of 7 glass types, do 2 clusters\n",
    "traces = []\n",
    "\n",
    "for groupNumber in range(dim):\n",
    "\n",
    "    trace = Scatter(\n",
    "        x=Y_sklearn[kmeans.labels_==groupNumber,0],\n",
    "        y=Y_sklearn[kmeans.labels_==groupNumber,1],\n",
    "        mode='markers',\n",
    "        name=\"Group\" + str(groupNumber+1),\n",
    "        marker=Marker(\n",
    "            size=12,\n",
    "            line=Line(\n",
    "                color='rgba(217, 217, 217, 0.14)',\n",
    "                width=0.5),\n",
    "            opacity=0.8))\n",
    "    traces.append(trace)\n",
    "\n",
    "\n",
    "data = Data(traces)\n",
    "layout = Layout(xaxis=XAxis(title='PC1', showline=False),\n",
    "                yaxis=YAxis(title='PC2', showline=False))\n",
    "fig = Figure(data=data, layout=layout)\n",
    "py.iplot(fig)"
   ]
  },
  {
   "cell_type": "code",
   "execution_count": 37,
   "metadata": {},
   "outputs": [
    {
     "data": {
      "text/html": [
       "<iframe id=\"igraph\" scrolling=\"no\" style=\"border:none;\" seamless=\"seamless\" src=\"https://plot.ly/~uthaipon/100.embed\" height=\"525px\" width=\"100%\"></iframe>"
      ],
      "text/plain": [
       "<plotly.tools.PlotlyDisplay object>"
      ]
     },
     "execution_count": 37,
     "metadata": {},
     "output_type": "execute_result"
    }
   ],
   "source": [
    "dim = 6;\n",
    "\n",
    "kmeans = KMeans(n_clusters=dim).fit(Y_sklearn)\n",
    "\n",
    "#plot the clusters. Same as plotly above but instead of 7 glass types, do 2 clusters\n",
    "traces = []\n",
    "\n",
    "for groupNumber in range(dim):\n",
    "\n",
    "    trace = Scatter(\n",
    "        x=Y_sklearn[kmeans.labels_==groupNumber,0],\n",
    "        y=Y_sklearn[kmeans.labels_==groupNumber,1],\n",
    "        mode='markers',\n",
    "        name=\"Group\" + str(groupNumber+1),\n",
    "        marker=Marker(\n",
    "            size=12,\n",
    "            line=Line(\n",
    "                color='rgba(217, 217, 217, 0.14)',\n",
    "                width=0.5),\n",
    "            opacity=0.8))\n",
    "    traces.append(trace)\n",
    "\n",
    "\n",
    "data = Data(traces)\n",
    "layout = Layout(xaxis=XAxis(title='PC1', showline=False),\n",
    "                yaxis=YAxis(title='PC2', showline=False))\n",
    "fig = Figure(data=data, layout=layout)\n",
    "py.iplot(fig)\n"
   ]
  },
  {
   "cell_type": "code",
   "execution_count": 38,
   "metadata": {},
   "outputs": [
    {
     "data": {
      "text/html": [
       "<iframe id=\"igraph\" scrolling=\"no\" style=\"border:none;\" seamless=\"seamless\" src=\"https://plot.ly/~uthaipon/102.embed\" height=\"525px\" width=\"100%\"></iframe>"
      ],
      "text/plain": [
       "<plotly.tools.PlotlyDisplay object>"
      ]
     },
     "execution_count": 38,
     "metadata": {},
     "output_type": "execute_result"
    }
   ],
   "source": [
    "dim = 7;\n",
    "\n",
    "kmeans = KMeans(n_clusters=dim).fit(Y_sklearn)\n",
    "\n",
    "#plot the clusters. Same as plotly above but instead of 7 glass types, do 2 clusters\n",
    "traces = []\n",
    "\n",
    "for groupNumber in range(dim):\n",
    "\n",
    "    trace = Scatter(\n",
    "        x=Y_sklearn[kmeans.labels_==groupNumber,0],\n",
    "        y=Y_sklearn[kmeans.labels_==groupNumber,1],\n",
    "        mode='markers',\n",
    "        name=\"Group\" + str(groupNumber+1),\n",
    "        marker=Marker(\n",
    "            size=12,\n",
    "            line=Line(\n",
    "                color='rgba(217, 217, 217, 0.14)',\n",
    "                width=0.5),\n",
    "            opacity=0.8))\n",
    "    traces.append(trace)\n",
    "\n",
    "\n",
    "data = Data(traces)\n",
    "layout = Layout(xaxis=XAxis(title='PC1', showline=False),\n",
    "                yaxis=YAxis(title='PC2', showline=False))\n",
    "fig = Figure(data=data, layout=layout)\n",
    "py.iplot(fig)"
   ]
  },
  {
   "cell_type": "code",
   "execution_count": 39,
   "metadata": {},
   "outputs": [
    {
     "data": {
      "text/html": [
       "<iframe id=\"igraph\" scrolling=\"no\" style=\"border:none;\" seamless=\"seamless\" src=\"https://plot.ly/~uthaipon/104.embed\" height=\"525px\" width=\"100%\"></iframe>"
      ],
      "text/plain": [
       "<plotly.tools.PlotlyDisplay object>"
      ]
     },
     "execution_count": 39,
     "metadata": {},
     "output_type": "execute_result"
    }
   ],
   "source": [
    "dim = 8;\n",
    "\n",
    "kmeans = KMeans(n_clusters=dim).fit(Y_sklearn)\n",
    "\n",
    "#plot the clusters. Same as plotly above but instead of 7 glass types, do 2 clusters\n",
    "traces = []\n",
    "\n",
    "for groupNumber in range(dim):\n",
    "\n",
    "    trace = Scatter(\n",
    "        x=Y_sklearn[kmeans.labels_==groupNumber,0],\n",
    "        y=Y_sklearn[kmeans.labels_==groupNumber,1],\n",
    "        mode='markers',\n",
    "        name=\"Group\" + str(groupNumber+1),\n",
    "        marker=Marker(\n",
    "            size=12,\n",
    "            line=Line(\n",
    "                color='rgba(217, 217, 217, 0.14)',\n",
    "                width=0.5),\n",
    "            opacity=0.8))\n",
    "    traces.append(trace)\n",
    "\n",
    "\n",
    "data = Data(traces)\n",
    "layout = Layout(xaxis=XAxis(title='PC1', showline=False),\n",
    "                yaxis=YAxis(title='PC2', showline=False))\n",
    "fig = Figure(data=data, layout=layout)\n",
    "py.iplot(fig)"
   ]
  },
  {
   "cell_type": "code",
   "execution_count": 40,
   "metadata": {},
   "outputs": [
    {
     "data": {
      "text/html": [
       "<iframe id=\"igraph\" scrolling=\"no\" style=\"border:none;\" seamless=\"seamless\" src=\"https://plot.ly/~uthaipon/106.embed\" height=\"525px\" width=\"100%\"></iframe>"
      ],
      "text/plain": [
       "<plotly.tools.PlotlyDisplay object>"
      ]
     },
     "execution_count": 40,
     "metadata": {},
     "output_type": "execute_result"
    }
   ],
   "source": [
    "dim = 9;\n",
    "\n",
    "kmeans = KMeans(n_clusters=dim).fit(Y_sklearn)\n",
    "\n",
    "#plot the clusters. Same as plotly above but instead of 7 glass types, do 2 clusters\n",
    "traces = []\n",
    "\n",
    "for groupNumber in range(dim):\n",
    "\n",
    "    trace = Scatter(\n",
    "        x=Y_sklearn[kmeans.labels_==groupNumber,0],\n",
    "        y=Y_sklearn[kmeans.labels_==groupNumber,1],\n",
    "        mode='markers',\n",
    "        name=\"Group\" + str(groupNumber+1),\n",
    "        marker=Marker(\n",
    "            size=12,\n",
    "            line=Line(\n",
    "                color='rgba(217, 217, 217, 0.14)',\n",
    "                width=0.5),\n",
    "            opacity=0.8))\n",
    "    traces.append(trace)\n",
    "\n",
    "\n",
    "data = Data(traces)\n",
    "layout = Layout(xaxis=XAxis(title='PC1', showline=False),\n",
    "                yaxis=YAxis(title='PC2', showline=False))\n",
    "fig = Figure(data=data, layout=layout)\n",
    "py.iplot(fig)"
   ]
  },
  {
   "cell_type": "code",
   "execution_count": 41,
   "metadata": {},
   "outputs": [
    {
     "data": {
      "text/html": [
       "<iframe id=\"igraph\" scrolling=\"no\" style=\"border:none;\" seamless=\"seamless\" src=\"https://plot.ly/~uthaipon/108.embed\" height=\"525px\" width=\"100%\"></iframe>"
      ],
      "text/plain": [
       "<plotly.tools.PlotlyDisplay object>"
      ]
     },
     "execution_count": 41,
     "metadata": {},
     "output_type": "execute_result"
    }
   ],
   "source": [
    "dim = 10;\n",
    "\n",
    "kmeans = KMeans(n_clusters=dim).fit(Y_sklearn)\n",
    "\n",
    "#plot the clusters. Same as plotly above but instead of 7 glass types, do 2 clusters\n",
    "traces = []\n",
    "\n",
    "for groupNumber in range(dim):\n",
    "\n",
    "    trace = Scatter(\n",
    "        x=Y_sklearn[kmeans.labels_==groupNumber,0],\n",
    "        y=Y_sklearn[kmeans.labels_==groupNumber,1],\n",
    "        mode='markers',\n",
    "        name=\"Group\" + str(groupNumber+1),\n",
    "        marker=Marker(\n",
    "            size=12,\n",
    "            line=Line(\n",
    "                color='rgba(217, 217, 217, 0.14)',\n",
    "                width=0.5),\n",
    "            opacity=0.8))\n",
    "    traces.append(trace)\n",
    "\n",
    "\n",
    "data = Data(traces)\n",
    "layout = Layout(xaxis=XAxis(title='PC1', showline=False),\n",
    "                yaxis=YAxis(title='PC2', showline=False))\n",
    "fig = Figure(data=data, layout=layout)\n",
    "py.iplot(fig)"
   ]
  },
  {
   "cell_type": "code",
   "execution_count": null,
   "metadata": {
    "collapsed": true
   },
   "outputs": [],
   "source": []
  }
 ],
 "metadata": {
  "kernelspec": {
   "display_name": "Python 3",
   "language": "python",
   "name": "python3"
  },
  "language_info": {
   "codemirror_mode": {
    "name": "ipython",
    "version": 3
   },
   "file_extension": ".py",
   "mimetype": "text/x-python",
   "name": "python",
   "nbconvert_exporter": "python",
   "pygments_lexer": "ipython3",
   "version": "3.6.1"
  }
 },
 "nbformat": 4,
 "nbformat_minor": 2
}
