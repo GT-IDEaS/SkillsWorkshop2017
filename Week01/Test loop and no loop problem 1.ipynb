{
 "cells": [
  {
   "cell_type": "code",
   "execution_count": 5,
   "metadata": {},
   "outputs": [],
   "source": [
    "import math\n",
    "# This one is your parTest function\n",
    "def loop_parTest(number):\n",
    "    \"\"\"Compares string repr's of integers character-by-character\n",
    "    to determine if the integer is a palindrome\"\"\"\n",
    "    strIn = str(number);\n",
    "    for i in range (math.floor(len(strIn)/2)):\n",
    "        if (strIn[i] != strIn[len(strIn)-i-1]):\n",
    "            return False\n",
    "        else: \n",
    "            return True\n",
    "# This compares the strings directly\n",
    "def noloop_parTest(number):\n",
    "    \"\"\"Compares string repr's of integers directly to determine\n",
    "    if the integer is a palindrome\"\"\"\n",
    "    if str(number) == str(number)[::-1]:\n",
    "        return True\n",
    "    else: \n",
    "        return False"
   ]
  },
  {
   "cell_type": "code",
   "execution_count": 16,
   "metadata": {},
   "outputs": [
    {
     "name": "stdout",
     "output_type": "stream",
     "text": [
      "The slowest run took 8.14 times longer than the fastest. This could mean that an intermediate result is being cached.\n",
      "1000000 loops, best of 3: 1.03 µs per loop\n"
     ]
    }
   ],
   "source": [
    "%%timeit\n",
    "number = 134098350961023985;\n",
    "loop_parTest(number)"
   ]
  },
  {
   "cell_type": "code",
   "execution_count": 15,
   "metadata": {},
   "outputs": [
    {
     "name": "stdout",
     "output_type": "stream",
     "text": [
      "The slowest run took 7.11 times longer than the fastest. This could mean that an intermediate result is being cached.\n",
      "1000000 loops, best of 3: 667 ns per loop\n"
     ]
    }
   ],
   "source": [
    "%%timeit\n",
    "number = 134098350961023985;\n",
    "noloop_parTest(number)"
   ]
  },
  {
   "cell_type": "code",
   "execution_count": null,
   "metadata": {
    "collapsed": true
   },
   "outputs": [],
   "source": []
  }
 ],
 "metadata": {
  "kernelspec": {
   "display_name": "Python 3",
   "language": "python",
   "name": "python3"
  },
  "language_info": {
   "codemirror_mode": {
    "name": "ipython",
    "version": 3
   },
   "file_extension": ".py",
   "mimetype": "text/x-python",
   "name": "python",
   "nbconvert_exporter": "python",
   "pygments_lexer": "ipython3",
   "version": "3.6.1"
  }
 },
 "nbformat": 4,
 "nbformat_minor": 2
}
