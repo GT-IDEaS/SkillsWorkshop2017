{
 "cells": [
  {
   "cell_type": "code",
   "execution_count": 20,
   "metadata": {},
   "outputs": [
    {
     "data": {
      "text/html": [
       "<div>\n",
       "<style>\n",
       "    .dataframe thead tr:only-child th {\n",
       "        text-align: right;\n",
       "    }\n",
       "\n",
       "    .dataframe thead th {\n",
       "        text-align: left;\n",
       "    }\n",
       "\n",
       "    .dataframe tbody tr th {\n",
       "        vertical-align: top;\n",
       "    }\n",
       "</style>\n",
       "<table border=\"1\" class=\"dataframe\">\n",
       "  <thead>\n",
       "    <tr style=\"text-align: right;\">\n",
       "      <th></th>\n",
       "      <th>Id</th>\n",
       "      <th>RI</th>\n",
       "      <th>Na</th>\n",
       "      <th>Mg</th>\n",
       "      <th>Al</th>\n",
       "      <th>Si</th>\n",
       "      <th>K</th>\n",
       "      <th>Ca</th>\n",
       "      <th>Ba</th>\n",
       "      <th>Fe</th>\n",
       "      <th>Glass Type</th>\n",
       "    </tr>\n",
       "  </thead>\n",
       "  <tbody>\n",
       "    <tr>\n",
       "      <th>209</th>\n",
       "      <td>210</td>\n",
       "      <td>1.51623</td>\n",
       "      <td>14.14</td>\n",
       "      <td>0.0</td>\n",
       "      <td>2.88</td>\n",
       "      <td>72.61</td>\n",
       "      <td>0.08</td>\n",
       "      <td>9.18</td>\n",
       "      <td>1.06</td>\n",
       "      <td>0.0</td>\n",
       "      <td>7</td>\n",
       "    </tr>\n",
       "    <tr>\n",
       "      <th>210</th>\n",
       "      <td>211</td>\n",
       "      <td>1.51685</td>\n",
       "      <td>14.92</td>\n",
       "      <td>0.0</td>\n",
       "      <td>1.99</td>\n",
       "      <td>73.06</td>\n",
       "      <td>0.00</td>\n",
       "      <td>8.40</td>\n",
       "      <td>1.59</td>\n",
       "      <td>0.0</td>\n",
       "      <td>7</td>\n",
       "    </tr>\n",
       "    <tr>\n",
       "      <th>211</th>\n",
       "      <td>212</td>\n",
       "      <td>1.52065</td>\n",
       "      <td>14.36</td>\n",
       "      <td>0.0</td>\n",
       "      <td>2.02</td>\n",
       "      <td>73.42</td>\n",
       "      <td>0.00</td>\n",
       "      <td>8.44</td>\n",
       "      <td>1.64</td>\n",
       "      <td>0.0</td>\n",
       "      <td>7</td>\n",
       "    </tr>\n",
       "    <tr>\n",
       "      <th>212</th>\n",
       "      <td>213</td>\n",
       "      <td>1.51651</td>\n",
       "      <td>14.38</td>\n",
       "      <td>0.0</td>\n",
       "      <td>1.94</td>\n",
       "      <td>73.61</td>\n",
       "      <td>0.00</td>\n",
       "      <td>8.48</td>\n",
       "      <td>1.57</td>\n",
       "      <td>0.0</td>\n",
       "      <td>7</td>\n",
       "    </tr>\n",
       "    <tr>\n",
       "      <th>213</th>\n",
       "      <td>214</td>\n",
       "      <td>1.51711</td>\n",
       "      <td>14.23</td>\n",
       "      <td>0.0</td>\n",
       "      <td>2.08</td>\n",
       "      <td>73.36</td>\n",
       "      <td>0.00</td>\n",
       "      <td>8.62</td>\n",
       "      <td>1.67</td>\n",
       "      <td>0.0</td>\n",
       "      <td>7</td>\n",
       "    </tr>\n",
       "  </tbody>\n",
       "</table>\n",
       "</div>"
      ],
      "text/plain": [
       "      Id       RI     Na   Mg    Al     Si     K    Ca    Ba   Fe  Glass Type\n",
       "209  210  1.51623  14.14  0.0  2.88  72.61  0.08  9.18  1.06  0.0           7\n",
       "210  211  1.51685  14.92  0.0  1.99  73.06  0.00  8.40  1.59  0.0           7\n",
       "211  212  1.52065  14.36  0.0  2.02  73.42  0.00  8.44  1.64  0.0           7\n",
       "212  213  1.51651  14.38  0.0  1.94  73.61  0.00  8.48  1.57  0.0           7\n",
       "213  214  1.51711  14.23  0.0  2.08  73.36  0.00  8.62  1.67  0.0           7"
      ]
     },
     "execution_count": 20,
     "metadata": {},
     "output_type": "execute_result"
    }
   ],
   "source": [
    "\"\"\"\n",
    "Attribute Information:\n",
    "\n",
    "1. Id number: 1 to 214 \n",
    "2. RI: refractive index \n",
    "3. Na: Sodium (unit measurement: weight percent in corresponding oxide, as are attributes 4-10) \n",
    "4. Mg: Magnesium \n",
    "5. Al: Aluminum \n",
    "6. Si: Silicon \n",
    "7. K: Potassium \n",
    "8. Ca: Calcium \n",
    "9. Ba: Barium \n",
    "10. Fe: Iron \n",
    "11. Type of glass: (class attribute) \n",
    "-- 1 building_windows_float_processed \n",
    "-- 2 building_windows_non_float_processed \n",
    "-- 3 vehicle_windows_float_processed \n",
    "-- 4 vehicle_windows_non_float_processed (none in this database) \n",
    "-- 5 containers \n",
    "-- 6 tableware \n",
    "-- 7 headlamps\n",
    "\"\"\"\n",
    "#data setup section\n",
    "glassTypeName = {1:\"building_windows_float_processed\",\n",
    "                 2:\"building_windows_non_float_processed\",\n",
    "                 3:\"vehicle_windows_float_processed\",\n",
    "                 4:\"vehicle_windows_non_float_processed\",\n",
    "                 5:\"containers\",\n",
    "                 6:\"tableware\",\n",
    "                 7:\"headlamps\"};\n",
    "\n",
    "import pandas as pd\n",
    "import plotly\n",
    "plotly.tools.set_credentials_file(username='uthaipon', api_key='uJ2ao98wtpRp6j4uLjRS')\n",
    "import plotly.plotly as py\n",
    "from plotly.graph_objs import *\n",
    "import plotly.tools as tls\n",
    "\n",
    "df = pd.read_csv(\n",
    "    filepath_or_buffer='https://archive.ics.uci.edu/ml/machine-learning-databases/glass/glass.data', \n",
    "    header=None, \n",
    "    sep=',')\n",
    "\n",
    "df.columns=['Id','RI','Na','Mg','Al','Si','K','Ca','Ba','Fe','Glass Type']\n",
    "df.dropna(how=\"all\", inplace=True) # drops the empty line at file-end\n",
    "\n",
    "df.tail()"
   ]
  },
  {
   "cell_type": "code",
   "execution_count": 6,
   "metadata": {},
   "outputs": [
    {
     "name": "stderr",
     "output_type": "stream",
     "text": [
      "C:\\Users\\turtl\\Anaconda3\\lib\\site-packages\\ipykernel_launcher.py:3: DeprecationWarning:\n",
      "\n",
      "\n",
      ".ix is deprecated. Please use\n",
      ".loc for label based indexing or\n",
      ".iloc for positional indexing\n",
      "\n",
      "See the documentation here:\n",
      "http://pandas.pydata.org/pandas-docs/stable/indexing.html#deprecate_ix\n",
      "\n"
     ]
    }
   ],
   "source": [
    "# split data table into data X and class labels y. Ignore first column because it's just ID\n",
    "\n",
    "X = df.ix[:,1:10].values\n",
    "y = df.ix[:,10].values"
   ]
  },
  {
   "cell_type": "code",
   "execution_count": 7,
   "metadata": {},
   "outputs": [
    {
     "data": {
      "text/plain": [
       "array([1, 1, 1, 1, 1, 1, 1, 1, 1, 1, 1, 1, 1, 1, 1, 1, 1, 1, 1, 1, 1, 1, 1,\n",
       "       1, 1, 1, 1, 1, 1, 1, 1, 1, 1, 1, 1, 1, 1, 1, 1, 1, 1, 1, 1, 1, 1, 1,\n",
       "       1, 1, 1, 1, 1, 1, 1, 1, 1, 1, 1, 1, 1, 1, 1, 1, 1, 1, 1, 1, 1, 1, 1,\n",
       "       1, 2, 2, 2, 2, 2, 2, 2, 2, 2, 2, 2, 2, 2, 2, 2, 2, 2, 2, 2, 2, 2, 2,\n",
       "       2, 2, 2, 2, 2, 2, 2, 2, 2, 2, 2, 2, 2, 2, 2, 2, 2, 2, 2, 2, 2, 2, 2,\n",
       "       2, 2, 2, 2, 2, 2, 2, 2, 2, 2, 2, 2, 2, 2, 2, 2, 2, 2, 2, 2, 2, 2, 2,\n",
       "       2, 2, 2, 2, 2, 2, 2, 2, 3, 3, 3, 3, 3, 3, 3, 3, 3, 3, 3, 3, 3, 3, 3,\n",
       "       3, 3, 5, 5, 5, 5, 5, 5, 5, 5, 5, 5, 5, 5, 5, 6, 6, 6, 6, 6, 6, 6, 6,\n",
       "       6, 7, 7, 7, 7, 7, 7, 7, 7, 7, 7, 7, 7, 7, 7, 7, 7, 7, 7, 7, 7, 7, 7,\n",
       "       7, 7, 7, 7, 7, 7, 7], dtype=int64)"
      ]
     },
     "execution_count": 7,
     "metadata": {},
     "output_type": "execute_result"
    }
   ],
   "source": [
    "y #for me to see the data type of dependent variables. It's in the form of integers"
   ]
  },
  {
   "cell_type": "code",
   "execution_count": 8,
   "metadata": {},
   "outputs": [
    {
     "name": "stdout",
     "output_type": "stream",
     "text": [
      "NumPy covariance matrix: \n",
      "[[  1.00469484e+00  -1.92786249e-01  -1.22848096e-01  -4.09238363e-01\n",
      "   -5.44597046e-01  -2.91193428e-01   8.14207404e-01  -3.87831208e-04\n",
      "    1.43681016e-01]\n",
      " [ -1.92786249e-01   1.00469484e+00  -2.75017087e-01   1.57529788e-01\n",
      "   -7.01365474e-02  -2.67335737e-01  -2.76735643e-01   3.28136226e-01\n",
      "   -2.42479493e-01]\n",
      " [ -1.22848096e-01  -2.75017087e-01   1.00469484e+00  -4.84060474e-01\n",
      "   -1.66705721e-01   5.42099905e-03  -4.45833360e-01  -4.94573208e-01\n",
      "    8.34494798e-02]\n",
      " [ -4.09238363e-01   1.57529788e-01  -4.84060474e-01   1.00469484e+00\n",
      "   -5.54965338e-03   3.27488767e-01  -2.60810752e-01   4.81654624e-01\n",
      "   -7.47514567e-02]\n",
      " [ -5.44597046e-01  -7.01365474e-02  -1.66705721e-01  -5.54965338e-03\n",
      "    1.00469484e+00  -1.94238511e-01  -2.09712117e-01  -1.02630894e-01\n",
      "   -9.46429875e-02]\n",
      " [ -2.91193428e-01  -2.67335737e-01   5.42099905e-03   3.27488767e-01\n",
      "   -1.94238511e-01   1.00469484e+00  -3.19328343e-01  -4.28181441e-02\n",
      "   -7.75528879e-03]\n",
      " [  8.14207404e-01  -2.76735643e-01  -4.45833360e-01  -2.60810752e-01\n",
      "   -2.09712117e-01  -3.19328343e-01   1.00469484e+00  -1.13370737e-01\n",
      "    1.25554924e-01]\n",
      " [ -3.87831208e-04   3.28136226e-01  -4.94573208e-01   4.81654624e-01\n",
      "   -1.02630894e-01  -4.28181441e-02  -1.13370737e-01   1.00469484e+00\n",
      "   -5.89673036e-02]\n",
      " [  1.43681016e-01  -2.42479493e-01   8.34494798e-02  -7.47514567e-02\n",
      "   -9.46429875e-02  -7.75528879e-03   1.25554924e-01  -5.89673036e-02\n",
      "    1.00469484e+00]]\n"
     ]
    }
   ],
   "source": [
    "from sklearn.preprocessing import StandardScaler #standardized the indenpendent variables part\n",
    "X_std = StandardScaler().fit_transform(X)\n",
    "\n",
    "import numpy as np\n",
    "#mean_vec = np.mean(X_std, axis=0)\n",
    "#cov_mat = (X_std - mean_vec).T.dot((X_std - mean_vec)) / (X_std.shape[0]-1)\n",
    "#print('Covariance matrix \\n%s' %cov_mat)\n",
    "\n",
    "print('NumPy covariance matrix: \\n%s' %np.cov(X_std.T)) \n",
    "#in this data set, STD it's 9-by-9 matrix because there are 9 indenpendent variables"
   ]
  },
  {
   "cell_type": "code",
   "execution_count": 10,
   "metadata": {},
   "outputs": [
    {
     "name": "stdout",
     "output_type": "stream",
     "text": [
      "Eigenvectors \n",
      "[[-0.54517662  0.28568318  0.08691083 -0.14738099  0.0735427  -0.11528772\n",
      "  -0.08186724 -0.7522159   0.02573194]\n",
      " [ 0.2581256   0.27035007 -0.38491962 -0.49124204 -0.1536833   0.55811757\n",
      "  -0.14858006 -0.12769315 -0.31193718]\n",
      " [-0.11088095 -0.59355826  0.00841796 -0.37878577 -0.12350912 -0.30818598\n",
      "   0.20604537 -0.07689061 -0.57727335]\n",
      " [ 0.42870863  0.29521154  0.32923712  0.13750592 -0.01410888  0.01885731\n",
      "   0.69923557 -0.27444105 -0.19222686]\n",
      " [ 0.22883635 -0.15509891 -0.45870884  0.65253771 -0.00850012 -0.08609797\n",
      "  -0.21606658 -0.37992298 -0.29807321]\n",
      " [ 0.21934405 -0.15397013  0.66257412  0.03853544  0.30703984  0.24363237\n",
      "  -0.50412141 -0.10981168 -0.26050863]\n",
      " [-0.49230609  0.3453798  -0.00098473  0.27644322  0.18818774  0.14866937\n",
      "   0.09913463  0.39870468 -0.57932321]\n",
      " [ 0.25037512  0.48470218  0.07405473 -0.13317545 -0.25133426 -0.65721884\n",
      "  -0.35178255  0.14493235 -0.1982282 ]\n",
      " [-0.18584154 -0.06203879  0.28445055  0.23049202 -0.87326405  0.24304431\n",
      "  -0.07372136 -0.01627141 -0.01466944]]\n",
      "\n",
      "Eigenvalues \n",
      "[  2.52295323e+00   2.05969694e+00   1.41143951e+00   1.16329842e+00\n",
      "   9.18293337e-01   5.30112353e-01   3.70690643e-01   6.41527269e-02\n",
      "   1.61637096e-03]\n",
      "Eigenvalues in descending order:\n",
      "2.52295322721\n",
      "2.05969693689\n",
      "1.41143950569\n",
      "1.1632984202\n",
      "0.918293337487\n",
      "0.530112353228\n",
      "0.370690642579\n",
      "0.0641527268709\n",
      "0.00161637095844\n"
     ]
    }
   ],
   "source": [
    "#Next, we perform an eigendecomposition on the covariance matrix:\n",
    "cov_mat = np.cov(X_std.T)\n",
    "\n",
    "eig_vals, eig_vecs = np.linalg.eig(cov_mat)\n",
    "\n",
    "print('Eigenvectors \\n%s' %eig_vecs)\n",
    "print('\\nEigenvalues \\n%s' %eig_vals)\n",
    "\n",
    "\n",
    "#check that enginvector has length 1\n",
    "for ev in eig_vecs:\n",
    "    np.testing.assert_array_almost_equal(1.0, np.linalg.norm(ev))\n",
    "\n",
    "# Make a list of (eigenvalue, eigenvector) tuples\n",
    "eig_pairs = [(np.abs(eig_vals[i]), eig_vecs[:,i]) for i in range(len(eig_vals))]\n",
    "\n",
    "# Sort the (eigenvalue, eigenvector) tuples from high to low\n",
    "eig_pairs.sort()\n",
    "eig_pairs.reverse()\n",
    "\n",
    "# Visually confirm that the list is correctly sorted by decreasing eigenvalues\n",
    "print('Eigenvalues in descending order:')\n",
    "for i in eig_pairs:\n",
    "    print(i[0])"
   ]
  },
  {
   "cell_type": "code",
   "execution_count": 12,
   "metadata": {
    "scrolled": false
   },
   "outputs": [
    {
     "data": {
      "text/html": [
       "<iframe id=\"igraph\" scrolling=\"no\" style=\"border:none;\" seamless=\"seamless\" src=\"https://plot.ly/~uthaipon/30.embed\" height=\"525px\" width=\"100%\"></iframe>"
      ],
      "text/plain": [
       "<plotly.tools.PlotlyDisplay object>"
      ]
     },
     "execution_count": 12,
     "metadata": {},
     "output_type": "execute_result"
    }
   ],
   "source": [
    "#how much can first few dimensions out of nine explain the information?\n",
    "tot = sum(eig_vals)\n",
    "var_exp = [(i / tot)*100 for i in sorted(eig_vals, reverse=True)]\n",
    "cum_var_exp = np.cumsum(var_exp)\n",
    "\n",
    "trace1 = Bar(\n",
    "        x=['PC %s' %i for i in range(1,10)],\n",
    "        y=var_exp,\n",
    "        showlegend=False)\n",
    "\n",
    "trace2 = Scatter(\n",
    "        x=['PC %s' %i for i in range(1,10)], \n",
    "        y=cum_var_exp,\n",
    "        name='cumulative explained variance')\n",
    "\n",
    "data = Data([trace1, trace2])\n",
    "\n",
    "layout=Layout(\n",
    "        yaxis=YAxis(title='Explained variance in percent'),\n",
    "        title='Explained variance by different principal components')\n",
    "\n",
    "fig = Figure(data=data, layout=layout)\n",
    "py.iplot(fig)"
   ]
  },
  {
   "cell_type": "code",
   "execution_count": 24,
   "metadata": {},
   "outputs": [
    {
     "name": "stdout",
     "output_type": "stream",
     "text": [
      "Matrix W:\n",
      " [[-0.54517662  0.28568318]\n",
      " [ 0.2581256   0.27035007]\n",
      " [-0.11088095 -0.59355826]\n",
      " [ 0.42870863  0.29521154]\n",
      " [ 0.22883635 -0.15509891]\n",
      " [ 0.21934405 -0.15397013]\n",
      " [-0.49230609  0.3453798 ]\n",
      " [ 0.25037512  0.48470218]\n",
      " [-0.18584154 -0.06203879]]\n"
     ]
    },
    {
     "data": {
      "text/html": [
       "<iframe id=\"igraph\" scrolling=\"no\" style=\"border:none;\" seamless=\"seamless\" src=\"https://plot.ly/~uthaipon/42.embed\" height=\"525px\" width=\"100%\"></iframe>"
      ],
      "text/plain": [
       "<plotly.tools.PlotlyDisplay object>"
      ]
     },
     "execution_count": 24,
     "metadata": {},
     "output_type": "execute_result"
    }
   ],
   "source": [
    "#take two eigenvectors with top eigenvalues, and list them as matrix of 2 columns, each column is one eigenvector \n",
    "matrix_w = np.hstack((eig_pairs[0][1].reshape(9,1), \n",
    "                      eig_pairs[1][1].reshape(9,1)))\n",
    "\n",
    "print('Matrix W:\\n', matrix_w)\n",
    "\n",
    "Y = X_std.dot(matrix_w)\n",
    "\n",
    "#Y shows what each row (9-dim data point) will project onto 2-dim space defined by W\n",
    "\n",
    "traces = []\n",
    "\n",
    "for typeNumber in range(1,8): #typeNumber is what dependent variables look like    \n",
    "#for each typeNumber, we have one Scatter plot\n",
    "    trace = Scatter(\n",
    "        x=Y[y==typeNumber,0],\n",
    "        y=Y[y==typeNumber,1],\n",
    "        mode='markers',\n",
    "        name=str(typeNumber) + \": \" + glassTypeName[typeNumber],\n",
    "        marker=Marker(\n",
    "            size=12,\n",
    "            line=Line(\n",
    "                color='rgba(217, 217, 217, 0.14)',\n",
    "                width=0.5),\n",
    "            opacity=0.8))\n",
    "    traces.append(trace)\n",
    "\n",
    "\n",
    "data = Data(traces)\n",
    "layout = Layout(showlegend=True,\n",
    "                scene=Scene(xaxis=XAxis(title='PC1'),\n",
    "                yaxis=YAxis(title='PC2'),))\n",
    "\n",
    "fig = Figure(data=data, layout=layout)\n",
    "py.iplot(fig)"
   ]
  },
  {
   "cell_type": "code",
   "execution_count": 26,
   "metadata": {},
   "outputs": [
    {
     "name": "stdout",
     "output_type": "stream",
     "text": [
      "Matrix W:\n",
      " [[-0.54517662  0.28568318  0.08691083]\n",
      " [ 0.2581256   0.27035007 -0.38491962]\n",
      " [-0.11088095 -0.59355826  0.00841796]\n",
      " [ 0.42870863  0.29521154  0.32923712]\n",
      " [ 0.22883635 -0.15509891 -0.45870884]\n",
      " [ 0.21934405 -0.15397013  0.66257412]\n",
      " [-0.49230609  0.3453798  -0.00098473]\n",
      " [ 0.25037512  0.48470218  0.07405473]\n",
      " [-0.18584154 -0.06203879  0.28445055]]\n"
     ]
    },
    {
     "data": {
      "text/html": [
       "<iframe id=\"igraph\" scrolling=\"no\" style=\"border:none;\" seamless=\"seamless\" src=\"https://plot.ly/~uthaipon/46.embed\" height=\"525px\" width=\"100%\"></iframe>"
      ],
      "text/plain": [
       "<plotly.tools.PlotlyDisplay object>"
      ]
     },
     "execution_count": 26,
     "metadata": {},
     "output_type": "execute_result"
    }
   ],
   "source": [
    "#now let's try three. \n",
    "#take three eigenvectors with top eigenvalues, and list them as matrix of 3 columns, each column is one eigenvector \n",
    "matrix_w = np.hstack((eig_pairs[0][1].reshape(9,1), \n",
    "                      eig_pairs[1][1].reshape(9,1),\n",
    "                      eig_pairs[2][1].reshape(9,1)))\n",
    "\n",
    "print('Matrix W:\\n', matrix_w)\n",
    "\n",
    "Y = X_std.dot(matrix_w)\n",
    "\n",
    "#Y shows what each row (9-dim data point) will project onto 2-dim space defined by W\n",
    "\n",
    "traces = []\n",
    "\n",
    "for typeNumber in range(1,8): #typeNumber is what dependent variables look like    \n",
    "#for each typeNumber, we have one Scatter plot\n",
    "    trace = Scatter3d(\n",
    "        x=Y[y==typeNumber,0],\n",
    "        y=Y[y==typeNumber,1],\n",
    "        z=Y[y==typeNumber,2],\n",
    "        mode='markers',\n",
    "        name=str(typeNumber) + \": \" + glassTypeName[typeNumber],\n",
    "        marker=Marker(\n",
    "            size=12,\n",
    "            line=Line(\n",
    "                color='rgba(217, 217, 217, 0.14)',\n",
    "                width=0.5),\n",
    "            opacity=0.8))\n",
    "    traces.append(trace)\n",
    "\n",
    "\n",
    "data = Data(traces)\n",
    "layout = Layout(showlegend=True,\n",
    "                scene=Scene(xaxis=XAxis(title='PC1'),\n",
    "                yaxis=YAxis(title='PC2'),))\n",
    "\n",
    "fig = Figure(data=data, layout=layout)\n",
    "py.iplot(fig)"
   ]
  },
  {
   "cell_type": "code",
   "execution_count": 30,
   "metadata": {},
   "outputs": [
    {
     "name": "stdout",
     "output_type": "stream",
     "text": [
      "Matrix W:\n",
      " [[-0.54517662  0.        ]\n",
      " [ 0.2581256   0.        ]\n",
      " [-0.11088095  0.        ]\n",
      " [ 0.42870863  0.        ]\n",
      " [ 0.22883635  0.        ]\n",
      " [ 0.21934405  0.        ]\n",
      " [-0.49230609  0.        ]\n",
      " [ 0.25037512  0.        ]\n",
      " [-0.18584154  0.        ]]\n"
     ]
    },
    {
     "data": {
      "text/html": [
       "<iframe id=\"igraph\" scrolling=\"no\" style=\"border:none;\" seamless=\"seamless\" src=\"https://plot.ly/~uthaipon/48.embed\" height=\"525px\" width=\"100%\"></iframe>"
      ],
      "text/plain": [
       "<plotly.tools.PlotlyDisplay object>"
      ]
     },
     "execution_count": 30,
     "metadata": {},
     "output_type": "execute_result"
    }
   ],
   "source": [
    "#for fun, let's also try 1-D\n",
    "#take one eigenvectors with top eigenvalues, and list them as matrix of 1 columns, each column is one eigenvector \n",
    "matrix_w = np.hstack((eig_pairs[0][1].reshape(9,1),\n",
    "                      np.zeros(9).reshape(9,1)))\n",
    "\n",
    "print('Matrix W:\\n', matrix_w)\n",
    "\n",
    "Y = X_std.dot(matrix_w)\n",
    "\n",
    "#Y shows what each row (9-dim data point) will project onto 2-dim space defined by W\n",
    "\n",
    "traces = []\n",
    "\n",
    "for typeNumber in range(1,8): #typeNumber is what dependent variables look like    \n",
    "#for each typeNumber, we have one Scatter plot\n",
    "    trace = Scatter(\n",
    "        x=Y[y==typeNumber,0],\n",
    "        y=Y[y==typeNumber,1],\n",
    "        mode='markers',\n",
    "        name=str(typeNumber) + \": \" + glassTypeName[typeNumber],\n",
    "        marker=Marker(\n",
    "            size=12,\n",
    "            line=Line(\n",
    "                color='rgba(217, 217, 217, 0.14)',\n",
    "                width=0.5),\n",
    "            opacity=0.8))\n",
    "    traces.append(trace)\n",
    "\n",
    "\n",
    "data = Data(traces)\n",
    "layout = Layout(showlegend=True,\n",
    "                scene=Scene(xaxis=XAxis(title='PC1'),\n",
    "                yaxis=YAxis(title='PC2'),))\n",
    "\n",
    "fig = Figure(data=data, layout=layout)\n",
    "py.iplot(fig)"
   ]
  },
  {
   "cell_type": "code",
   "execution_count": 21,
   "metadata": {},
   "outputs": [
    {
     "data": {
      "text/html": [
       "<iframe id=\"igraph\" scrolling=\"no\" style=\"border:none;\" seamless=\"seamless\" src=\"https://plot.ly/~uthaipon/24.embed\" height=\"525px\" width=\"100%\"></iframe>"
      ],
      "text/plain": [
       "<plotly.tools.PlotlyDisplay object>"
      ]
     },
     "execution_count": 21,
     "metadata": {},
     "output_type": "execute_result"
    }
   ],
   "source": [
    "#anything below here is by using sklearn. Should look the same as my own version, which is so (up to symmetric transformation)\n",
    "\n",
    "from sklearn.decomposition import PCA as sklearnPCA\n",
    "sklearn_pca = sklearnPCA(n_components=2)\n",
    "Y_sklearn = sklearn_pca.fit_transform(X_std)\n",
    "\n",
    "traces = []\n",
    "\n",
    "for name in range(1,8): #because the dependent variables are 1,2,...,7, so just use list of numbers as 'name' of class\n",
    "\n",
    "    trace = Scatter(\n",
    "        x=Y_sklearn[y==name,0],\n",
    "        y=Y_sklearn[y==name,1],\n",
    "        mode='markers',\n",
    "        name=name,\n",
    "        marker=Marker(\n",
    "            size=12,\n",
    "            line=Line(\n",
    "                color='rgba(217, 217, 217, 0.14)',\n",
    "                width=0.5),\n",
    "            opacity=0.8))\n",
    "    traces.append(trace)\n",
    "\n",
    "\n",
    "data = Data(traces)\n",
    "layout = Layout(xaxis=XAxis(title='PC1', showline=False),\n",
    "                yaxis=YAxis(title='PC2', showline=False))\n",
    "fig = Figure(data=data, layout=layout)\n",
    "py.iplot(fig)"
   ]
  },
  {
   "cell_type": "code",
   "execution_count": 22,
   "metadata": {},
   "outputs": [
    {
     "data": {
      "text/html": [
       "<iframe id=\"igraph\" scrolling=\"no\" style=\"border:none;\" seamless=\"seamless\" src=\"https://plot.ly/~uthaipon/26.embed\" height=\"525px\" width=\"100%\"></iframe>"
      ],
      "text/plain": [
       "<plotly.tools.PlotlyDisplay object>"
      ]
     },
     "execution_count": 22,
     "metadata": {},
     "output_type": "execute_result"
    }
   ],
   "source": [
    "sklearn_pca = sklearnPCA(n_components=3) #now try 3 components\n",
    "Y_sklearn = sklearn_pca.fit_transform(X_std)\n",
    "\n",
    "traces = []\n",
    "\n",
    "for name in range(1,8): #because the dependent variables are 1,2,...,7, so just use list of numbers as 'name' of class\n",
    "\n",
    "    trace = Scatter3d(\n",
    "        x=Y_sklearn[y==name,0],\n",
    "        y=Y_sklearn[y==name,1],\n",
    "        z=Y_sklearn[y==name,2],\n",
    "        mode='markers',\n",
    "        name=name,\n",
    "        marker=Marker(\n",
    "            size=12,\n",
    "            line=Line(\n",
    "                color='rgba(217, 217, 217, 0.14)',\n",
    "                width=0.5),\n",
    "            opacity=0.8))\n",
    "    traces.append(trace)\n",
    "\n",
    "\n",
    "data = Data(traces)\n",
    "layout = Layout(xaxis=XAxis(title='PC1', showline=False),\n",
    "                yaxis=YAxis(title='PC2', showline=False))\n",
    "fig = Figure(data=data, layout=layout)\n",
    "py.iplot(fig)"
   ]
  },
  {
   "cell_type": "code",
   "execution_count": null,
   "metadata": {
    "collapsed": true
   },
   "outputs": [],
   "source": []
  }
 ],
 "metadata": {
  "kernelspec": {
   "display_name": "Python 3",
   "language": "python",
   "name": "python3"
  },
  "language_info": {
   "codemirror_mode": {
    "name": "ipython",
    "version": 3
   },
   "file_extension": ".py",
   "mimetype": "text/x-python",
   "name": "python",
   "nbconvert_exporter": "python",
   "pygments_lexer": "ipython3",
   "version": "3.6.1"
  }
 },
 "nbformat": 4,
 "nbformat_minor": 2
}
